{
  "nbformat": 4,
  "nbformat_minor": 0,
  "metadata": {
    "colab": {
      "provenance": [],
      "history_visible": true
    },
    "kernelspec": {
      "name": "python3",
      "display_name": "Python 3"
    },
    "language_info": {
      "name": "python"
    }
  },
  "cells": [
    {
      "cell_type": "code",
      "execution_count": 3,
      "metadata": {
        "id": "ig1I5YAybKwF"
      },
      "outputs": [],
      "source": [
        "import pandas as pd\n",
        "import csv\n",
        "import numpy as np\n",
        "import matplotlib.pyplot as plt\n",
        "from sklearn.model_selection import train_test_split\n",
        "from sklearn.datasets import make_regression\n",
        "from sklearn import datasets"
      ]
    },
    {
      "cell_type": "code",
      "source": [
        "bc = datasets.load_breast_cancer()\n",
        "X, y = bc.data, bc.target\n",
        "X_train, X_test, y_train, y_test = train_test_split(X, y, test_size=0.2, random_state=1234)"
      ],
      "metadata": {
        "id": "xEGDZIxCbZpG"
      },
      "execution_count": 4,
      "outputs": []
    },
    {
      "cell_type": "code",
      "source": [
        "m,n=X_train.shape"
      ],
      "metadata": {
        "id": "kqLz1NRVcWQi"
      },
      "execution_count": 5,
      "outputs": []
    },
    {
      "cell_type": "code",
      "source": [
        "par=np.zeros(n)\n",
        "for i in range(1000):\n",
        "  z=np.dot(X_train,par)\n",
        "  y=1/(1+np.exp(-1*z))\n",
        "  gradient = (1/m) * np.dot(X_train.T, (y - y_train))\n",
        "  par = par - (0.001 * gradient)\n",
        "y = [0 if n<=0.5 else 1 for n in y]"
      ],
      "metadata": {
        "id": "MebWO3XnchUv",
        "colab": {
          "base_uri": "https://localhost:8080/"
        },
        "outputId": "799f5f07-543e-4939-bdaf-f6c130878f50"
      },
      "execution_count": 31,
      "outputs": [
        {
          "output_type": "stream",
          "name": "stderr",
          "text": [
            "<ipython-input-31-144587559484>:4: RuntimeWarning: overflow encountered in exp\n",
            "  y=1/(1+np.exp(-1*z))\n"
          ]
        }
      ]
    },
    {
      "cell_type": "code",
      "source": [
        "plt.plot(X_train,y,'x')"
      ],
      "metadata": {
        "colab": {
          "base_uri": "https://localhost:8080/",
          "height": 975
        },
        "id": "yyE2lVuMn0ua",
        "outputId": "c9ffd94b-0519-4d9c-85f5-b3fe4459f96d"
      },
      "execution_count": 32,
      "outputs": [
        {
          "output_type": "execute_result",
          "data": {
            "text/plain": [
              "[<matplotlib.lines.Line2D at 0x7f888803a2c0>,\n",
              " <matplotlib.lines.Line2D at 0x7f888803a110>,\n",
              " <matplotlib.lines.Line2D at 0x7f88880392d0>,\n",
              " <matplotlib.lines.Line2D at 0x7f888803aaa0>,\n",
              " <matplotlib.lines.Line2D at 0x7f888c94caf0>,\n",
              " <matplotlib.lines.Line2D at 0x7f888c94f3a0>,\n",
              " <matplotlib.lines.Line2D at 0x7f888c94f640>,\n",
              " <matplotlib.lines.Line2D at 0x7f888c94d390>,\n",
              " <matplotlib.lines.Line2D at 0x7f888c94ebc0>,\n",
              " <matplotlib.lines.Line2D at 0x7f888c94d4e0>,\n",
              " <matplotlib.lines.Line2D at 0x7f888c94e110>,\n",
              " <matplotlib.lines.Line2D at 0x7f888c94de40>,\n",
              " <matplotlib.lines.Line2D at 0x7f888c94f5b0>,\n",
              " <matplotlib.lines.Line2D at 0x7f888c94f400>,\n",
              " <matplotlib.lines.Line2D at 0x7f888ca34490>,\n",
              " <matplotlib.lines.Line2D at 0x7f888d9c9f00>,\n",
              " <matplotlib.lines.Line2D at 0x7f888d9c97e0>,\n",
              " <matplotlib.lines.Line2D at 0x7f888d9c8100>,\n",
              " <matplotlib.lines.Line2D at 0x7f888d9c9a20>,\n",
              " <matplotlib.lines.Line2D at 0x7f888d9c87c0>,\n",
              " <matplotlib.lines.Line2D at 0x7f888d9ca2c0>,\n",
              " <matplotlib.lines.Line2D at 0x7f888d9c9900>,\n",
              " <matplotlib.lines.Line2D at 0x7f888d9ca9b0>,\n",
              " <matplotlib.lines.Line2D at 0x7f888d9c9a80>,\n",
              " <matplotlib.lines.Line2D at 0x7f888d9c9d20>,\n",
              " <matplotlib.lines.Line2D at 0x7f888d9c9090>,\n",
              " <matplotlib.lines.Line2D at 0x7f888ca51630>,\n",
              " <matplotlib.lines.Line2D at 0x7f888ca50e50>,\n",
              " <matplotlib.lines.Line2D at 0x7f888ca53430>,\n",
              " <matplotlib.lines.Line2D at 0x7f888ca538e0>]"
            ]
          },
          "metadata": {},
          "execution_count": 32
        },
        {
          "output_type": "display_data",
          "data": {
            "text/plain": [
              "<Figure size 640x480 with 1 Axes>"
            ],
            "image/png": "[encoded data removed]"
          },
          "metadata": {}
        }
      ]
    },
    {
      "cell_type": "code",
      "source": [
        "z=np.dot(X_test,par)\n",
        "y_pred=1/(1+np.exp(-1*z))\n",
        "y_pred = [0 if y<=0.5 else 1 for y in y_pred]"
      ],
      "metadata": {
        "colab": {
          "base_uri": "https://localhost:8080/"
        },
        "id": "bQEB7anVmm-E",
        "outputId": "690ff232-bf97-4ba0-d68e-f80305570ddd"
      },
      "execution_count": 22,
      "outputs": [
        {
          "output_type": "stream",
          "name": "stderr",
          "text": [
            "<ipython-input-22-27d3d1b47339>:2: RuntimeWarning: overflow encountered in exp\n",
            "  y_pred=1/(1+np.exp(-1*z))\n"
          ]
        }
      ]
    },
    {
      "cell_type": "code",
      "source": [
        "plt.plot(X_train,y_train,'o')\n"
      ],
      "metadata": {
        "colab": {
          "base_uri": "https://localhost:8080/",
          "height": 975
        },
        "id": "eHm4aANPn0az",
        "outputId": "3789d950-bdbe-46b0-b7e0-974ae226a083"
      },
      "execution_count": 23,
      "outputs": [
        {
          "output_type": "execute_result",
          "data": {
            "text/plain": [
              "[<matplotlib.lines.Line2D at 0x7f888858a620>,\n",
              " <matplotlib.lines.Line2D at 0x7f888858a590>,\n",
              " <matplotlib.lines.Line2D at 0x7f888858a4a0>,\n",
              " <matplotlib.lines.Line2D at 0x7f888858a3b0>,\n",
              " <matplotlib.lines.Line2D at 0x7f888858a2c0>,\n",
              " <matplotlib.lines.Line2D at 0x7f888858a1d0>,\n",
              " <matplotlib.lines.Line2D at 0x7f888858a0e0>,\n",
              " <matplotlib.lines.Line2D at 0x7f8888589ff0>,\n",
              " <matplotlib.lines.Line2D at 0x7f8888589f00>,\n",
              " <matplotlib.lines.Line2D at 0x7f8888589e10>,\n",
              " <matplotlib.lines.Line2D at 0x7f8888589d20>,\n",
              " <matplotlib.lines.Line2D at 0x7f8888589c30>,\n",
              " <matplotlib.lines.Line2D at 0x7f8888589b40>,\n",
              " <matplotlib.lines.Line2D at 0x7f8888589a50>,\n",
              " <matplotlib.lines.Line2D at 0x7f8888589960>,\n",
              " <matplotlib.lines.Line2D at 0x7f8888589870>,\n",
              " <matplotlib.lines.Line2D at 0x7f8888589780>,\n",
              " <matplotlib.lines.Line2D at 0x7f8888589660>,\n",
              " <matplotlib.lines.Line2D at 0x7f8888589570>,\n",
              " <matplotlib.lines.Line2D at 0x7f8888589480>,\n",
              " <matplotlib.lines.Line2D at 0x7f8888589390>,\n",
              " <matplotlib.lines.Line2D at 0x7f88885892a0>,\n",
              " <matplotlib.lines.Line2D at 0x7f88885891b0>,\n",
              " <matplotlib.lines.Line2D at 0x7f88885890c0>,\n",
              " <matplotlib.lines.Line2D at 0x7f8888588fa0>,\n",
              " <matplotlib.lines.Line2D at 0x7f8888588e80>,\n",
              " <matplotlib.lines.Line2D at 0x7f8888588d90>,\n",
              " <matplotlib.lines.Line2D at 0x7f8888588ca0>,\n",
              " <matplotlib.lines.Line2D at 0x7f8888588bb0>,\n",
              " <matplotlib.lines.Line2D at 0x7f8888588ac0>]"
            ]
          },
          "metadata": {},
          "execution_count": 23
        },
        {
          "output_type": "display_data",
          "data": {
            "text/plain": [
              "<Figure size 640x480 with 1 Axes>"
            ],
            "image/png": "[encoded data removed]"
          },
          "metadata": {}
        }
      ]
    },
    {
      "cell_type": "code",
      "source": [
        "def accuracy(y_pred, y_test):\n",
        "    return np.sum(y_pred==y_test)/len(y_test)\n",
        "\n",
        "acc = accuracy(y_pred, y_test)\n",
        "print(acc*100)"
      ],
      "metadata": {
        "colab": {
          "base_uri": "https://localhost:8080/"
        },
        "id": "oUX6dLeXi1xb",
        "outputId": "c3ff46cb-6440-4e52-aead-d860d342f6e5"
      },
      "execution_count": 34,
      "outputs": [
        {
          "output_type": "stream",
          "name": "stdout",
          "text": [
            "89.47368421052632\n"
          ]
        }
      ]
    }
  ]
}