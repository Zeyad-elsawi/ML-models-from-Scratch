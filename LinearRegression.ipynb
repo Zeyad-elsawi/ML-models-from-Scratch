{
 "cells": [
  {
   "cell_type": "code",
   "execution_count": 175,
   "id": "fa54c112-bbed-4419-bf99-2d3d80e1a060",
   "metadata": {},
   "outputs": [],
   "source": [
    "import pandas as pd\n",
    "import csv\n",
    "import numpy as np\n",
    "import matplotlib.pyplot as plt"
   ]
  },
  {
   "cell_type": "code",
   "execution_count": 176,
   "id": "774e79e6-3d88-4a22-b45e-2107f95b6d7c",
   "metadata": {},
   "outputs": [
    {
     "data": {
      "text/html": [
       "<div>\n",
       "<style scoped>\n",
       "    .dataframe tbody tr th:only-of-type {\n",
       "        vertical-align: middle;\n",
       "    }\n",
       "\n",
       "    .dataframe tbody tr th {\n",
       "        vertical-align: top;\n",
       "    }\n",
       "\n",
       "    .dataframe thead th {\n",
       "        text-align: right;\n",
       "    }\n",
       "</style>\n",
       "<table border=\"1\" class=\"dataframe\">\n",
       "  <thead>\n",
       "    <tr style=\"text-align: right;\">\n",
       "      <th></th>\n",
       "      <th>bedrooms</th>\n",
       "      <th>bathrooms</th>\n",
       "      <th>sqft_living</th>\n",
       "      <th>sqft_lot</th>\n",
       "      <th>floors</th>\n",
       "      <th>waterfront</th>\n",
       "      <th>view</th>\n",
       "      <th>condition</th>\n",
       "      <th>sqft_above</th>\n",
       "      <th>sqft_basement</th>\n",
       "      <th>yr_built</th>\n",
       "      <th>yr_renovated</th>\n",
       "    </tr>\n",
       "  </thead>\n",
       "  <tbody>\n",
       "    <tr>\n",
       "      <th>0</th>\n",
       "      <td>3.0</td>\n",
       "      <td>1.50</td>\n",
       "      <td>1340</td>\n",
       "      <td>7912</td>\n",
       "      <td>1.5</td>\n",
       "      <td>0</td>\n",
       "      <td>0</td>\n",
       "      <td>3</td>\n",
       "      <td>1340</td>\n",
       "      <td>0</td>\n",
       "      <td>1955</td>\n",
       "      <td>2005</td>\n",
       "    </tr>\n",
       "    <tr>\n",
       "      <th>1</th>\n",
       "      <td>5.0</td>\n",
       "      <td>2.50</td>\n",
       "      <td>3650</td>\n",
       "      <td>9050</td>\n",
       "      <td>2.0</td>\n",
       "      <td>0</td>\n",
       "      <td>4</td>\n",
       "      <td>5</td>\n",
       "      <td>3370</td>\n",
       "      <td>280</td>\n",
       "      <td>1921</td>\n",
       "      <td>0</td>\n",
       "    </tr>\n",
       "    <tr>\n",
       "      <th>2</th>\n",
       "      <td>3.0</td>\n",
       "      <td>2.00</td>\n",
       "      <td>1930</td>\n",
       "      <td>11947</td>\n",
       "      <td>1.0</td>\n",
       "      <td>0</td>\n",
       "      <td>0</td>\n",
       "      <td>4</td>\n",
       "      <td>1930</td>\n",
       "      <td>0</td>\n",
       "      <td>1966</td>\n",
       "      <td>0</td>\n",
       "    </tr>\n",
       "    <tr>\n",
       "      <th>3</th>\n",
       "      <td>3.0</td>\n",
       "      <td>2.25</td>\n",
       "      <td>2000</td>\n",
       "      <td>8030</td>\n",
       "      <td>1.0</td>\n",
       "      <td>0</td>\n",
       "      <td>0</td>\n",
       "      <td>4</td>\n",
       "      <td>1000</td>\n",
       "      <td>1000</td>\n",
       "      <td>1963</td>\n",
       "      <td>0</td>\n",
       "    </tr>\n",
       "    <tr>\n",
       "      <th>4</th>\n",
       "      <td>4.0</td>\n",
       "      <td>2.50</td>\n",
       "      <td>1940</td>\n",
       "      <td>10500</td>\n",
       "      <td>1.0</td>\n",
       "      <td>0</td>\n",
       "      <td>0</td>\n",
       "      <td>4</td>\n",
       "      <td>1140</td>\n",
       "      <td>800</td>\n",
       "      <td>1976</td>\n",
       "      <td>1992</td>\n",
       "    </tr>\n",
       "  </tbody>\n",
       "</table>\n",
       "</div>"
      ],
      "text/plain": [
       "   bedrooms  bathrooms  sqft_living  sqft_lot  floors  waterfront  view  \\\n",
       "0       3.0       1.50         1340      7912     1.5           0     0   \n",
       "1       5.0       2.50         3650      9050     2.0           0     4   \n",
       "2       3.0       2.00         1930     11947     1.0           0     0   \n",
       "3       3.0       2.25         2000      8030     1.0           0     0   \n",
       "4       4.0       2.50         1940     10500     1.0           0     0   \n",
       "\n",
       "   condition  sqft_above  sqft_basement  yr_built  yr_renovated  \n",
       "0          3        1340              0      1955          2005  \n",
       "1          5        3370            280      1921             0  \n",
       "2          4        1930              0      1966             0  \n",
       "3          4        1000           1000      1963             0  \n",
       "4          4        1140            800      1976          1992  "
      ]
     },
     "execution_count": 176,
     "metadata": {},
     "output_type": "execute_result"
    }
   ],
   "source": [
    "df=pd.read_csv('data.csv',usecols=[2,3,4,5,6,7,8,9,10,11,12,13])\n",
    "#features\n",
    "x_test=pd.concat([ df[3501:]])\n",
    "df=pd.concat([ df[:3500]])\n",
    "df.head()\n"
   ]
  },
  {
   "cell_type": "code",
   "execution_count": 177,
   "id": "64910e01-1d67-41be-b385-a43dd88f8a13",
   "metadata": {},
   "outputs": [
    {
     "data": {
      "text/html": [
       "<div>\n",
       "<style scoped>\n",
       "    .dataframe tbody tr th:only-of-type {\n",
       "        vertical-align: middle;\n",
       "    }\n",
       "\n",
       "    .dataframe tbody tr th {\n",
       "        vertical-align: top;\n",
       "    }\n",
       "\n",
       "    .dataframe thead th {\n",
       "        text-align: right;\n",
       "    }\n",
       "</style>\n",
       "<table border=\"1\" class=\"dataframe\">\n",
       "  <thead>\n",
       "    <tr style=\"text-align: right;\">\n",
       "      <th></th>\n",
       "      <th>price</th>\n",
       "    </tr>\n",
       "  </thead>\n",
       "  <tbody>\n",
       "    <tr>\n",
       "      <th>0</th>\n",
       "      <td>313000.0</td>\n",
       "    </tr>\n",
       "    <tr>\n",
       "      <th>1</th>\n",
       "      <td>2384000.0</td>\n",
       "    </tr>\n",
       "    <tr>\n",
       "      <th>2</th>\n",
       "      <td>342000.0</td>\n",
       "    </tr>\n",
       "    <tr>\n",
       "      <th>3</th>\n",
       "      <td>420000.0</td>\n",
       "    </tr>\n",
       "    <tr>\n",
       "      <th>4</th>\n",
       "      <td>550000.0</td>\n",
       "    </tr>\n",
       "  </tbody>\n",
       "</table>\n",
       "</div>"
      ],
      "text/plain": [
       "       price\n",
       "0   313000.0\n",
       "1  2384000.0\n",
       "2   342000.0\n",
       "3   420000.0\n",
       "4   550000.0"
      ]
     },
     "execution_count": 177,
     "metadata": {},
     "output_type": "execute_result"
    }
   ],
   "source": [
    "Y=pd.read_csv('data.csv',usecols=['price'])\n",
    "#labels\n",
    "Y_test=pd.concat([ Y[3501:]])\n",
    "Y=pd.concat([ Y[:3500]])\n",
    "\n",
    "Y.head()"
   ]
  },
  {
   "cell_type": "code",
   "execution_count": 178,
   "id": "ebef7ee6-fd52-4ab0-8792-2877452f4285",
   "metadata": {},
   "outputs": [
    {
     "data": {
      "image/png": "[encoded data removed]",
      "text/plain": [
       "<Figure size 640x480 with 1 Axes>"
      ]
     },
     "metadata": {},
     "output_type": "display_data"
    }
   ],
   "source": [
    "plt.scatter(df['condition'], Y, marker='x') \n",
    "plt.show()"
   ]
  },
  {
   "cell_type": "code",
   "execution_count": 179,
   "id": "57526cd3-02f2-4662-a4d5-3a84638c6f64",
   "metadata": {},
   "outputs": [
    {
     "name": "stdout",
     "output_type": "stream",
     "text": [
      "Shape of x: (3500, 12)\n",
      "Shape of Y: (3500, 1)\n",
      "Shape of par: (12, 1)\n",
      "Shape of y: (99, 1)\n",
      "Any NaN in x? False\n",
      "Any NaN in Y? False\n"
     ]
    }
   ],
   "source": [
    "x=df.values\n",
    "x = (x - np.mean(x, axis=0)) / np.std(x, axis=0)\n",
    "x_test = (x_test - np.mean(x_test, axis=0)) / np.std(x_test, axis=0)\n",
    "Y = np.where(Y== 0, 1e-5, Y)\n",
    "print(\"Shape of x:\", x.shape)\n",
    "print(\"Shape of Y:\", Y.shape)\n",
    "print(\"Shape of par:\", par.shape)\n",
    "print(\"Shape of y:\", y.shape)\n",
    "print(\"Any NaN in x?\", np.isnan(x).any())\n",
    "print(\"Any NaN in Y?\", np.isnan(Y).any())\n"
   ]
  },
  {
   "cell_type": "code",
   "execution_count": 186,
   "id": "27374c55-9f48-4981-8360-b2c608077ad2",
   "metadata": {},
   "outputs": [
    {
     "name": "stdout",
     "output_type": "stream",
     "text": [
      "[[ 11216.43862344]\n",
      " [ 45964.95778787]\n",
      " [ 89488.11088237]\n",
      " [ -3068.74904501]\n",
      " [ 24440.26132364]\n",
      " [ 38474.91328369]\n",
      " [ 50460.42319227]\n",
      " [ 17332.37934209]\n",
      " [ 77909.74861462]\n",
      " [ 41775.4595135 ]\n",
      " [-30624.93384972]\n",
      " [  6481.25383271]]\n"
     ]
    }
   ],
   "source": [
    "#making the model\n",
    "n=12 #number of features\n",
    "m=df.shape[0] #num of examples(training)\n",
    "par=np.zeros((n,1))\n",
    "\n",
    "y=np.dot(x,par)\n",
    "for z in range(1000):\n",
    "   gradient = (1/m) * np.dot(x.T, (y - Y)) \n",
    "   par = par - (0.001 * gradient)  \n",
    "   y = np.dot(x, par)  \n",
    "print (par)\n"
   ]
  },
  {
   "cell_type": "code",
   "execution_count": 187,
   "id": "bd9e04dd-3196-4420-b2e2-d6c92c745c76",
   "metadata": {},
   "outputs": [],
   "source": [
    "#Testing\n",
    "y=np.dot(x_test,par)\n",
    "\n"
   ]
  },
  {
   "cell_type": "code",
   "execution_count": 188,
   "id": "240a0950-707e-4529-977f-707b9a2028ed",
   "metadata": {},
   "outputs": [
    {
     "data": {
      "image/png": "[encoded data removed]",
      "text/plain": [
       "<Figure size 640x480 with 1 Axes>"
      ]
     },
     "metadata": {},
     "output_type": "display_data"
    }
   ],
   "source": [
    "Y_test = np.where(Y_test == 0, 1e-5, Y_test)\n",
    "plt.scatter(Y_test, y ,marker='x')\n",
    "plt.xlabel('Actual Values')\n",
    "plt.ylabel('Predicted Values')\n",
    "plt.title('Actual vs Predicted Values')\n",
    "plt.show()"
   ]
  },
  {
   "cell_type": "code",
   "execution_count": 191,
   "id": "cc181c4a-b098-4cc6-a51f-3a8d62c85861",
   "metadata": {},
   "outputs": [
    {
     "name": "stdout",
     "output_type": "stream",
     "text": [
      "[127.03665462]\n"
     ]
    }
   ],
   "source": [
    "p = 0\n",
    "for q in range(99):\n",
    "    p += np.abs(y[q] - Y_test[q]) / Y_test[q]  # Absolute error divided by actual value\n",
    "p /= 99  # Averaging the error\n",
    "\n",
    "# Convert to percentage and print the result\n",
    "print(p * 100)\n"
   ]
  },
  {
   "cell_type": "code",
   "execution_count": null,
   "id": "ef42d82d-49c9-44cd-959a-6b7836d6f291",
   "metadata": {},
   "outputs": [],
   "source": []
  },
  {
   "cell_type": "code",
   "execution_count": null,
   "id": "584e7019-a8a6-43c3-b621-c135cc73533f",
   "metadata": {},
   "outputs": [],
   "source": []
  },
  {
   "cell_type": "code",
   "execution_count": null,
   "id": "70128ab9-4ea7-4252-9c1f-533294425a17",
   "metadata": {},
   "outputs": [],
   "source": []
  }
 ],
 "metadata": {
  "kernelspec": {
   "display_name": "Python 3 (ipykernel)",
   "language": "python",
   "name": "python3"
  },
  "language_info": {
   "codemirror_mode": {
    "name": "ipython",
    "version": 3
   },
   "file_extension": ".py",
   "mimetype": "text/x-python",
   "name": "python",
   "nbconvert_exporter": "python",
   "pygments_lexer": "ipython3",
   "version": "3.12.4"
  }
 },
 "nbformat": 4,
 "nbformat_minor": 5
}
